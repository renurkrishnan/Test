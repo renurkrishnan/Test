{
 "cells": [
  {
   "cell_type": "markdown",
   "metadata": {},
   "source": [
    "**Source - Asteroid Light Curve Database \n",
    "https://sbn.psi.edu/pds/resource/lc.html**\n",
    "\n",
    "**The above database consists of multiple files. The following observations are based on the summary file (LC Summary file) from the database.**"
   ]
  },
  {
   "cell_type": "code",
   "execution_count": null,
   "metadata": {},
   "outputs": [],
   "source": [
    "import pandas as pd\n",
    "import numpy as np"
   ]
  },
  {
   "cell_type": "code",
   "execution_count": null,
   "metadata": {},
   "outputs": [],
   "source": [
    "pd.set_option('display.max_columns', 1000)\n",
    "pd.set_option('display.width', 2000)"
   ]
  },
  {
   "cell_type": "code",
   "execution_count": null,
   "metadata": {},
   "outputs": [],
   "source": [
    "LCSummary = pd.read_csv('lc_summary.csv',skiprows = [0,1,2,3,4,5,6,7,8,9,10,11,12,13,14,15,17,18,19,20,21])\n"
   ]
  },
  {
   "cell_type": "code",
   "execution_count": null,
   "metadata": {},
   "outputs": [],
   "source": [
    "#Listing selected columns\n",
    "print(LCSummary[['Number','Name','Family','Diam','Class']])"
   ]
  },
  {
   "cell_type": "code",
   "execution_count": null,
   "metadata": {},
   "outputs": [],
   "source": [
    "LCSummary.isnull().any()"
   ]
  },
  {
   "cell_type": "markdown",
   "metadata": {},
   "source": [
    "All fields except 'Notes' have non-null values."
   ]
  },
  {
   "cell_type": "code",
   "execution_count": null,
   "metadata": {},
   "outputs": [],
   "source": [
    "# How many rows in the dataset?\n",
    "LCSummary['Number'].count()\n"
   ]
  },
  {
   "cell_type": "code",
   "execution_count": null,
   "metadata": {},
   "outputs": [],
   "source": [
    "#Just looking for the asteroid 'Ceres' details\n",
    "LCSummary.loc[LCSummary['Name']=='Ceres']"
   ]
  },
  {
   "cell_type": "code",
   "execution_count": null,
   "metadata": {},
   "outputs": [],
   "source": [
    "#List all the collisional family types.\n",
    "LCSummary.Family.unique()"
   ]
  },
  {
   "cell_type": "markdown",
   "metadata": {},
   "source": [
    "**TNO families are not considered to be asteroids(based on wikipedia), hence we can eliminate it**"
   ]
  },
  {
   "cell_type": "code",
   "execution_count": null,
   "metadata": {},
   "outputs": [],
   "source": [
    "#Eliminating records that belongs to 'TNO' family\n",
    "tnofam= LCSummary[LCSummary['Family']=='TNO']\n",
    "LCSummary = LCSummary.drop(tnofam.index, axis=0)"
   ]
  },
  {
   "cell_type": "code",
   "execution_count": null,
   "metadata": {},
   "outputs": [],
   "source": [
    "#Looking for rows with negative values for diameter\n",
    "print(LCSummary[LCSummary['Diam']<=0][['Name','Albedo','Diam','H']])"
   ]
  },
  {
   "cell_type": "code",
   "execution_count": null,
   "metadata": {},
   "outputs": [],
   "source": [
    "# As the rows with negative diameter do not have valid values for Albedo or H, we cannot calculate the diameter. Hence eliminate rows with invalid values for H,Albedo and Diam\n",
    "invdiam= LCSummary[LCSummary['Albedo']<0]\n",
    "LCSummary = LCSummary.drop(invdiam.index, axis=0)"
   ]
  },
  {
   "cell_type": "code",
   "execution_count": null,
   "metadata": {},
   "outputs": [],
   "source": [
    "# Sorting the rows based on descending values of diameter.\n",
    "Sort_size = LCSummary.sort_values(by=['Diam'], ascending=False)"
   ]
  },
  {
   "cell_type": "code",
   "execution_count": null,
   "metadata": {},
   "outputs": [],
   "source": [
    "#Lets look at the top 10biggest asteroids\n",
    "print(Sort_size.head(10)[['Number','Name','Family','Diam']])"
   ]
  },
  {
   "cell_type": "markdown",
   "metadata": {},
   "source": [
    "Per above, the largest asteroid in size is Ceres followed by Pallas."
   ]
  },
  {
   "cell_type": "code",
   "execution_count": null,
   "metadata": {},
   "outputs": [],
   "source": [
    "#Lets look the 10smallest asteroids\n",
    "print(Sort_size.tail(10)[['Number','Name','Family','Diam']])\n"
   ]
  },
  {
   "cell_type": "markdown",
   "metadata": {},
   "source": [
    "Per above the smallest asteroid is 2006 RH120"
   ]
  },
  {
   "cell_type": "code",
   "execution_count": null,
   "metadata": {},
   "outputs": [],
   "source": [
    "# Now lets group the asteroids based on the classes they belongs.\n",
    "#Lets find out the unique classes first\n",
    "Aclass = LCSummary.Class.unique()\n",
    "np.sort(Aclass)"
   ]
  },
  {
   "cell_type": "code",
   "execution_count": null,
   "metadata": {},
   "outputs": [],
   "source": [
    "# Some classes are repeated (like C: and C),so applying the correction\n",
    "LCSummary['Class']=LCSummary['Class'].replace(to_replace={'C:':'C','CB:':'CB','CBU:':'CBU','CP:':'CP','CX:':'CX','DCX:':'DCX','DTU:':'DTU','DU:':'DU','DX:':'DX','F:':'F','FC:':'FC','FCX:':'FCX','G:':'G','MU:':'MU','P:':'P','Sq':'SQ','XD:':'XD','CFU:':'CFU','Xk':'XK','DSU:':'DSU','Cgh':'CGH','FX:':'FX','GS:':'GS'},regex = True)"
   ]
  },
  {
   "cell_type": "code",
   "execution_count": null,
   "metadata": {},
   "outputs": [],
   "source": [
    "# Lets look at the final list\n",
    "LCSummary.Class.unique()"
   ]
  },
  {
   "cell_type": "code",
   "execution_count": null,
   "metadata": {},
   "outputs": [],
   "source": [
    "sizebyclass = LCSummary.groupby('Class')['Name'].count()\n",
    "print(sizebyclass)"
   ]
  },
  {
   "cell_type": "code",
   "execution_count": null,
   "metadata": {},
   "outputs": [],
   "source": [
    "# Find out the mean asteroid size for each class\n",
    "sizebyclass = LCSummary.groupby('Class')['Diam'].mean().reset_index(name = 'Mean')\n",
    "sizebyclass_a= sizebyclass.sort_values(by=\"Mean\",ascending = 'True')\n",
    "print(sizebyclass_a)"
   ]
  },
  {
   "cell_type": "code",
   "execution_count": null,
   "metadata": {},
   "outputs": [],
   "source": [
    "import matplotlib\n",
    "import matplotlib.pyplot as plt\n",
    "%matplotlib inline"
   ]
  },
  {
   "cell_type": "markdown",
   "metadata": {},
   "source": [
    "\n",
    "Relation between Rotation period (in hours) and Asteroid diameter(km)"
   ]
  },
  {
   "cell_type": "code",
   "execution_count": null,
   "metadata": {},
   "outputs": [],
   "source": [
    "_ = LCSummary.plot.scatter(x='Diam', y='Period')"
   ]
  },
  {
   "cell_type": "code",
   "execution_count": null,
   "metadata": {},
   "outputs": [],
   "source": [
    "As we can see above, rotation period is less for bigger asteroids and vice versa."
   ]
  }
 ],
 "metadata": {
  "kernelspec": {
   "display_name": "Python 3",
   "language": "python",
   "name": "python3"
  },
  "language_info": {
   "codemirror_mode": {
    "name": "ipython",
    "version": 3
   },
   "file_extension": ".py",
   "mimetype": "text/x-python",
   "name": "python",
   "nbconvert_exporter": "python",
   "pygments_lexer": "ipython3",
   "version": "3.7.0"
  }
 },
 "nbformat": 4,
 "nbformat_minor": 2
}
